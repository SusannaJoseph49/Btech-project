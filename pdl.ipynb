{
 "cells": [
  {
   "cell_type": "code",
   "execution_count": 1,
   "metadata": {},
   "outputs": [],
   "source": [
    "import numpy as np\n",
    "import pandas as pd\n",
    "from sklearn.ensemble import RandomForestClassifier\n",
    "from sklearn.model_selection import train_test_split\n",
    "from pdll import PairwiseDifferenceClassifier"
   ]
  },
  {
   "cell_type": "code",
   "execution_count": 2,
   "metadata": {},
   "outputs": [],
   "source": [
    "data = pd.read_csv('./combined_data.csv')"
   ]
  },
  {
   "cell_type": "code",
   "execution_count": 3,
   "metadata": {},
   "outputs": [
    {
     "data": {
      "text/html": [
       "<div>\n",
       "<style scoped>\n",
       "    .dataframe tbody tr th:only-of-type {\n",
       "        vertical-align: middle;\n",
       "    }\n",
       "\n",
       "    .dataframe tbody tr th {\n",
       "        vertical-align: top;\n",
       "    }\n",
       "\n",
       "    .dataframe thead th {\n",
       "        text-align: right;\n",
       "    }\n",
       "</style>\n",
       "<table border=\"1\" class=\"dataframe\">\n",
       "  <thead>\n",
       "    <tr style=\"text-align: right;\">\n",
       "      <th></th>\n",
       "      <th>Cell_Type</th>\n",
       "      <th>Phase Volume</th>\n",
       "      <th>Phase_Variance</th>\n",
       "      <th>Phase_Surface_Area_to_Volume_Ratio</th>\n",
       "      <th>Phase_Skewness</th>\n",
       "      <th>Dry_Mass</th>\n",
       "      <th>Phase_Sphericity_Index</th>\n",
       "      <th>Phase_Surface_Area_to_Dry_Mass_Ratio</th>\n",
       "      <th>Mean_OPD</th>\n",
       "      <th>Projected_Area_To_Volume</th>\n",
       "      <th>Phase_Kurtosis</th>\n",
       "      <th>Energy</th>\n",
       "      <th>Median_OPD</th>\n",
       "      <th>Phase_Surface_Area</th>\n",
       "      <th>Density</th>\n",
       "    </tr>\n",
       "  </thead>\n",
       "  <tbody>\n",
       "    <tr>\n",
       "      <th>0</th>\n",
       "      <td>Hek</td>\n",
       "      <td>3309.074158</td>\n",
       "      <td>57.654616</td>\n",
       "      <td>0.403143</td>\n",
       "      <td>0.342372</td>\n",
       "      <td>1.654537e+04</td>\n",
       "      <td>0.804988</td>\n",
       "      <td>0.080629</td>\n",
       "      <td>47.957596</td>\n",
       "      <td>0.020852</td>\n",
       "      <td>2.248171</td>\n",
       "      <td>3.920514e+03</td>\n",
       "      <td>47.083150</td>\n",
       "      <td>1334.030093</td>\n",
       "      <td>239.787982</td>\n",
       "    </tr>\n",
       "    <tr>\n",
       "      <th>1</th>\n",
       "      <td>Hek</td>\n",
       "      <td>3630.107691</td>\n",
       "      <td>923.235217</td>\n",
       "      <td>1.130838</td>\n",
       "      <td>-0.288402</td>\n",
       "      <td>1.815054e+04</td>\n",
       "      <td>0.278255</td>\n",
       "      <td>0.226168</td>\n",
       "      <td>46.539842</td>\n",
       "      <td>0.021487</td>\n",
       "      <td>1.790718</td>\n",
       "      <td>7.108911e+04</td>\n",
       "      <td>53.856019</td>\n",
       "      <td>4105.065431</td>\n",
       "      <td>232.699211</td>\n",
       "    </tr>\n",
       "    <tr>\n",
       "      <th>2</th>\n",
       "      <td>Hek</td>\n",
       "      <td>38236.014425</td>\n",
       "      <td>14237.096896</td>\n",
       "      <td>3.787462</td>\n",
       "      <td>1.703172</td>\n",
       "      <td>1.911801e+05</td>\n",
       "      <td>0.037900</td>\n",
       "      <td>0.757492</td>\n",
       "      <td>39.995831</td>\n",
       "      <td>0.025003</td>\n",
       "      <td>5.769890</td>\n",
       "      <td>1.359643e+07</td>\n",
       "      <td>0.000000</td>\n",
       "      <td>144817.461365</td>\n",
       "      <td>199.979155</td>\n",
       "    </tr>\n",
       "    <tr>\n",
       "      <th>3</th>\n",
       "      <td>Hek</td>\n",
       "      <td>52.984288</td>\n",
       "      <td>663.753975</td>\n",
       "      <td>209.137328</td>\n",
       "      <td>-0.172664</td>\n",
       "      <td>2.649214e+02</td>\n",
       "      <td>0.006157</td>\n",
       "      <td>41.827466</td>\n",
       "      <td>0.210255</td>\n",
       "      <td>4.756127</td>\n",
       "      <td>1.972272</td>\n",
       "      <td>1.666022e+05</td>\n",
       "      <td>0.000000</td>\n",
       "      <td>11080.992327</td>\n",
       "      <td>1.051276</td>\n",
       "    </tr>\n",
       "    <tr>\n",
       "      <th>4</th>\n",
       "      <td>Hek</td>\n",
       "      <td>224270.162358</td>\n",
       "      <td>7023.222553</td>\n",
       "      <td>1.455073</td>\n",
       "      <td>0.285291</td>\n",
       "      <td>1.121351e+06</td>\n",
       "      <td>0.054703</td>\n",
       "      <td>0.291015</td>\n",
       "      <td>58.817247</td>\n",
       "      <td>0.017002</td>\n",
       "      <td>3.030987</td>\n",
       "      <td>2.677252e+07</td>\n",
       "      <td>41.627913</td>\n",
       "      <td>326329.532081</td>\n",
       "      <td>294.086234</td>\n",
       "    </tr>\n",
       "  </tbody>\n",
       "</table>\n",
       "</div>"
      ],
      "text/plain": [
       "  Cell_Type   Phase Volume  Phase_Variance  \\\n",
       "0       Hek    3309.074158       57.654616   \n",
       "1       Hek    3630.107691      923.235217   \n",
       "2       Hek   38236.014425    14237.096896   \n",
       "3       Hek      52.984288      663.753975   \n",
       "4       Hek  224270.162358     7023.222553   \n",
       "\n",
       "   Phase_Surface_Area_to_Volume_Ratio  Phase_Skewness      Dry_Mass  \\\n",
       "0                            0.403143        0.342372  1.654537e+04   \n",
       "1                            1.130838       -0.288402  1.815054e+04   \n",
       "2                            3.787462        1.703172  1.911801e+05   \n",
       "3                          209.137328       -0.172664  2.649214e+02   \n",
       "4                            1.455073        0.285291  1.121351e+06   \n",
       "\n",
       "   Phase_Sphericity_Index  Phase_Surface_Area_to_Dry_Mass_Ratio   Mean_OPD  \\\n",
       "0                0.804988                              0.080629  47.957596   \n",
       "1                0.278255                              0.226168  46.539842   \n",
       "2                0.037900                              0.757492  39.995831   \n",
       "3                0.006157                             41.827466   0.210255   \n",
       "4                0.054703                              0.291015  58.817247   \n",
       "\n",
       "   Projected_Area_To_Volume  Phase_Kurtosis        Energy  Median_OPD  \\\n",
       "0                  0.020852        2.248171  3.920514e+03   47.083150   \n",
       "1                  0.021487        1.790718  7.108911e+04   53.856019   \n",
       "2                  0.025003        5.769890  1.359643e+07    0.000000   \n",
       "3                  4.756127        1.972272  1.666022e+05    0.000000   \n",
       "4                  0.017002        3.030987  2.677252e+07   41.627913   \n",
       "\n",
       "   Phase_Surface_Area     Density  \n",
       "0         1334.030093  239.787982  \n",
       "1         4105.065431  232.699211  \n",
       "2       144817.461365  199.979155  \n",
       "3        11080.992327    1.051276  \n",
       "4       326329.532081  294.086234  "
      ]
     },
     "metadata": {},
     "output_type": "display_data"
    }
   ],
   "source": [
    "display(data.head())"
   ]
  },
  {
   "cell_type": "code",
   "execution_count": 4,
   "metadata": {},
   "outputs": [],
   "source": [
    "data.replace([np.inf, -np.inf], np.nan, inplace=True)"
   ]
  },
  {
   "cell_type": "code",
   "execution_count": 5,
   "metadata": {},
   "outputs": [
    {
     "name": "stdout",
     "output_type": "stream",
     "text": [
      "Cell_Type                                0\n",
      "Phase Volume                             0\n",
      "Phase_Variance                          48\n",
      "Phase_Surface_Area_to_Volume_Ratio      22\n",
      "Phase_Skewness                          48\n",
      "Dry_Mass                                 0\n",
      "Phase_Sphericity_Index                  65\n",
      "Phase_Surface_Area_to_Dry_Mass_Ratio    22\n",
      "Mean_OPD                                 0\n",
      "Projected_Area_To_Volume                22\n",
      "Phase_Kurtosis                          48\n",
      "Energy                                   0\n",
      "Median_OPD                               0\n",
      "Phase_Surface_Area                       0\n",
      "Density                                  0\n",
      "dtype: int64\n"
     ]
    }
   ],
   "source": [
    "print(data.isnull().sum())"
   ]
  },
  {
   "cell_type": "code",
   "execution_count": 6,
   "metadata": {},
   "outputs": [],
   "source": [
    "data = data.dropna()"
   ]
  },
  {
   "cell_type": "code",
   "execution_count": 7,
   "metadata": {},
   "outputs": [
    {
     "name": "stdout",
     "output_type": "stream",
     "text": [
      "Cell_Type                               0\n",
      "Phase Volume                            0\n",
      "Phase_Variance                          0\n",
      "Phase_Surface_Area_to_Volume_Ratio      0\n",
      "Phase_Skewness                          0\n",
      "Dry_Mass                                0\n",
      "Phase_Sphericity_Index                  0\n",
      "Phase_Surface_Area_to_Dry_Mass_Ratio    0\n",
      "Mean_OPD                                0\n",
      "Projected_Area_To_Volume                0\n",
      "Phase_Kurtosis                          0\n",
      "Energy                                  0\n",
      "Median_OPD                              0\n",
      "Phase_Surface_Area                      0\n",
      "Density                                 0\n",
      "dtype: int64\n"
     ]
    }
   ],
   "source": [
    "print(data.isnull().sum())"
   ]
  },
  {
   "cell_type": "code",
   "execution_count": 8,
   "metadata": {},
   "outputs": [],
   "source": [
    "X = data.drop(columns=['Cell_Type'])\n",
    "y = data['Cell_Type'].map({'Hek': 0, 'A375': 1})  # Encoding classes as 0 and 1"
   ]
  },
  {
   "cell_type": "code",
   "execution_count": 9,
   "metadata": {},
   "outputs": [],
   "source": [
    "X_train, X_test, y_train, y_test = train_test_split(X, y, test_size=0.2, random_state=42, stratify=y)"
   ]
  },
  {
   "cell_type": "code",
   "execution_count": 10,
   "metadata": {},
   "outputs": [],
   "source": [
    "def create_pairs(X, y):\n",
    "    pairs = []\n",
    "    labels = []\n",
    "    \n",
    "    for i in range(len(X)):\n",
    "        for j in range(i + 1, len(X)):\n",
    "            pairs.append(np.concatenate([X[i], X[j]]))\n",
    "            labels.append(1 if y[i] == y[j] else 0)\n",
    "    \n",
    "    return np.array(pairs), np.array(labels)"
   ]
  },
  {
   "cell_type": "code",
   "execution_count": 11,
   "metadata": {},
   "outputs": [
    {
     "data": {
      "text/plain": [
       "(10160, 14)"
      ]
     },
     "execution_count": 11,
     "metadata": {},
     "output_type": "execute_result"
    }
   ],
   "source": [
    "X_train.shape\n"
   ]
  },
  {
   "cell_type": "code",
   "execution_count": 12,
   "metadata": {},
   "outputs": [],
   "source": [
    "pairs_train, labels_train = create_pairs(X_train.values, y_train.values)\n",
    "base_classifier = RandomForestClassifier(n_estimators=100, random_state=42, max_depth=5)\n",
    "base_classifier.fit(pairs_train, labels_train)"
   ]
  },
  {
   "cell_type": "code",
   "execution_count": null,
   "metadata": {},
   "outputs": [],
   "source": []
  }
 ],
 "metadata": {
  "kernelspec": {
   "display_name": ".venv",
   "language": "python",
   "name": "python3"
  },
  "language_info": {
   "codemirror_mode": {
    "name": "ipython",
    "version": 3
   },
   "file_extension": ".py",
   "mimetype": "text/x-python",
   "name": "python",
   "nbconvert_exporter": "python",
   "pygments_lexer": "ipython3",
   "version": "3.12.5"
  }
 },
 "nbformat": 4,
 "nbformat_minor": 2
}
